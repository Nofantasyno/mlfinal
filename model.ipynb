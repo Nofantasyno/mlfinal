{
 "cells": [
  {
   "cell_type": "code",
   "execution_count": 53,
   "metadata": {},
   "outputs": [],
   "source": [
    "# importing the dependencies\n",
    "import os\n",
    "from os import listdir\n",
    "from os.path import isfile, join\n",
    "import cv2\n",
    "import numpy as np\n",
    "import keras\n",
    "from keras import backend as k\n",
    "from sklearn.model_selection import train_test_split\n",
    "from keras.models import Sequential\n",
    "from keras.layers.convolutional import Conv2D, MaxPooling2D\n",
    "from keras.layers.core import Flatten, Dense"
   ]
  },
  {
   "cell_type": "code",
   "execution_count": 54,
   "metadata": {},
   "outputs": [],
   "source": [
    "# a function to resize the image into appropriate dimensions\n",
    "def resize(img):\n",
    "    img = cv2.resize(img,(20,20))\n",
    "    return img\n",
    "    "
   ]
  },
  {
   "cell_type": "code",
   "execution_count": 55,
   "metadata": {},
   "outputs": [],
   "source": [
    "X_train = []\n",
    "y_train = []\n",
    "\n",
    "# to get the name of the folder\n",
    "for name_folder in os.listdir(\"extracted_letter_images\") :\n",
    "\n",
    "    name = 'extracted_letter_images/' + name_folder\n",
    "    for f in listdir(name):\n",
    "        # name of the folder is the name of the output\n",
    "        y_train.append(np.asarray(name_folder))\n",
    "        \n",
    "        # constructing full path to the image\n",
    "        name = 'extracted_letter_images/' + name_folder + '/' + f\n",
    "        # reading the image\n",
    "        image = cv2.imread(name,0)/255\n",
    "        \n",
    "        # appending to form the image list\n",
    "        image = np.asarray(image)\n",
    "        image = resize(image)\n",
    "        X_train.append([image])"
   ]
  },
  {
   "cell_type": "code",
   "execution_count": 56,
   "metadata": {},
   "outputs": [],
   "source": [
    "# converting the lsit into an numoy array so that it can be fed into neural network\n",
    "X_train = np.asarray(X_train)\n",
    "y_train = np.asarray(y_train)"
   ]
  },
  {
   "cell_type": "code",
   "execution_count": 57,
   "metadata": {},
   "outputs": [],
   "source": [
    "X_train = np.reshape(X_train, [-1,20,20,1])"
   ]
  },
  {
   "cell_type": "code",
   "execution_count": 58,
   "metadata": {},
   "outputs": [
    {
     "data": {
      "text/plain": [
       "(36761, 20, 20, 1)"
      ]
     },
     "execution_count": 58,
     "metadata": {},
     "output_type": "execute_result"
    }
   ],
   "source": [
    "X_train.shape"
   ]
  },
  {
   "cell_type": "code",
   "execution_count": 59,
   "metadata": {},
   "outputs": [],
   "source": [
    "# one hot encoding the output labels\n",
    "from sklearn.preprocessing import LabelEncoder\n",
    "from sklearn.preprocessing import OneHotEncoder\n",
    "\n",
    "label_encoder = LabelEncoder()\n",
    "integer_encoded = label_encoder.fit_transform(y_train)\n",
    "\n",
    "onehot_encoder = OneHotEncoder(sparse=False)\n",
    "integer_encoded = integer_encoded.reshape(len(integer_encoded), 1)\n",
    "y_train = onehot_encoder.fit_transform(integer_encoded)"
   ]
  },
  {
   "cell_type": "code",
   "execution_count": 60,
   "metadata": {},
   "outputs": [],
   "source": [
    "# defining the architecture of the model\n",
    "model = Sequential()\n",
    "\n",
    "# First convolutional layer with max pooling\n",
    "model.add(Conv2D(64, (3, 3), padding=\"same\", input_shape=(20,20,1), activation=\"relu\"))\n",
    "model.add(MaxPooling2D(pool_size=(2, 2)))\n",
    "\n",
    "# Second convolutional layer with max pooling\n",
    "model.add(Conv2D(128, (3, 3), padding=\"same\", activation=\"relu\"))\n",
    "model.add(MaxPooling2D(pool_size=(2, 2)))\n",
    "\n",
    "# third convolutional layer with max pooling\n",
    "model.add(Conv2D(512, (3, 3), padding=\"same\", activation=\"relu\"))\n",
    "model.add(MaxPooling2D(pool_size=(2, 2)))\n",
    "\n",
    "# Hidden layer with 100 nodes\n",
    "model.add(Flatten())\n",
    "model.add(Dense(100, activation=\"relu\"))\n",
    "\n",
    "# Output layer with 36 nodes (one for each possible letter/number we predict)\n",
    "model.add(Dense(36, activation=\"softmax\"))\n",
    "\n",
    "# Ask Keras to build the TensorFlow model behind the scenes\n",
    "model.compile(loss=\"categorical_crossentropy\", optimizer=\"adam\", metrics=[\"accuracy\"])\n"
   ]
  },
  {
   "cell_type": "code",
   "execution_count": 61,
   "metadata": {},
   "outputs": [
    {
     "name": "stdout",
     "output_type": "stream",
     "text": [
      "Model: \"sequential_2\"\n",
      "_________________________________________________________________\n",
      "Layer (type)                 Output Shape              Param #   \n",
      "=================================================================\n",
      "conv2d_6 (Conv2D)            (None, 20, 20, 64)        640       \n",
      "_________________________________________________________________\n",
      "max_pooling2d_6 (MaxPooling2 (None, 10, 10, 64)        0         \n",
      "_________________________________________________________________\n",
      "conv2d_7 (Conv2D)            (None, 10, 10, 128)       73856     \n",
      "_________________________________________________________________\n",
      "max_pooling2d_7 (MaxPooling2 (None, 5, 5, 128)         0         \n",
      "_________________________________________________________________\n",
      "conv2d_8 (Conv2D)            (None, 5, 5, 512)         590336    \n",
      "_________________________________________________________________\n",
      "max_pooling2d_8 (MaxPooling2 (None, 2, 2, 512)         0         \n",
      "_________________________________________________________________\n",
      "flatten_2 (Flatten)          (None, 2048)              0         \n",
      "_________________________________________________________________\n",
      "dense_4 (Dense)              (None, 100)               204900    \n",
      "_________________________________________________________________\n",
      "dense_5 (Dense)              (None, 36)                3636      \n",
      "=================================================================\n",
      "Total params: 873,368\n",
      "Trainable params: 873,368\n",
      "Non-trainable params: 0\n",
      "_________________________________________________________________\n"
     ]
    }
   ],
   "source": [
    "model.summary()"
   ]
  },
  {
   "cell_type": "code",
   "execution_count": 62,
   "metadata": {},
   "outputs": [],
   "source": [
    "# splitting the samples into training and testing sets so that we cross validate our results\n",
    "X_train, X_test, y_train, y_test = train_test_split(X_train,y_train ,test_size = .2)"
   ]
  },
  {
   "cell_type": "code",
   "execution_count": 63,
   "metadata": {},
   "outputs": [
    {
     "data": {
      "text/plain": [
       "(29408, 36)"
      ]
     },
     "execution_count": 63,
     "metadata": {},
     "output_type": "execute_result"
    }
   ],
   "source": [
    "# shape of the training output\n",
    "y_train.shape"
   ]
  },
  {
   "cell_type": "code",
   "execution_count": 64,
   "metadata": {},
   "outputs": [
    {
     "name": "stdout",
     "output_type": "stream",
     "text": [
      "Epoch 1/5\n",
      "15/15 [==============================] - 42s 3s/step - loss: 3.4925 - accuracy: 0.0473 - val_loss: 3.1679 - val_accuracy: 0.3589\n",
      "Epoch 2/5\n",
      "15/15 [==============================] - 44s 3s/step - loss: 2.8168 - accuracy: 0.4002 - val_loss: 1.4542 - val_accuracy: 0.7290\n",
      "Epoch 3/5\n",
      "15/15 [==============================] - 44s 3s/step - loss: 1.0925 - accuracy: 0.7814 - val_loss: 0.4706 - val_accuracy: 0.8992\n",
      "Epoch 4/5\n",
      "15/15 [==============================] - 44s 3s/step - loss: 0.3752 - accuracy: 0.9201 - val_loss: 0.2316 - val_accuracy: 0.9566\n",
      "Epoch 5/5\n",
      "15/15 [==============================] - 46s 3s/step - loss: 0.1823 - accuracy: 0.9615 - val_loss: 0.1535 - val_accuracy: 0.9728\n"
     ]
    }
   ],
   "source": [
    "# fitting the model\n",
    "history = model.fit(X_train, y_train,\n",
    "          validation_data=(X_test,y_test),\n",
    "          batch_size=2000, \n",
    "          epochs=5, \n",
    "          verbose=1)\n"
   ]
  },
  {
   "cell_type": "markdown",
   "metadata": {},
   "source": [
    "from the above training and testing results we can say that our model performs very well on the data set"
   ]
  },
  {
   "cell_type": "code",
   "execution_count": 65,
   "metadata": {},
   "outputs": [],
   "source": [
    "#saving the model \n",
    "model.save('models/model.h5')"
   ]
  },
  {
   "cell_type": "code",
   "execution_count": 66,
   "metadata": {},
   "outputs": [],
   "source": [
    "np.save('models/xtrain',X_train,allow_pickle=True)"
   ]
  },
  {
   "cell_type": "code",
   "execution_count": 67,
   "metadata": {},
   "outputs": [],
   "source": [
    "#METRICS\n"
   ]
  },
  {
   "cell_type": "code",
   "execution_count": 68,
   "metadata": {},
   "outputs": [
    {
     "name": "stdout",
     "output_type": "stream",
     "text": [
      "Classification report for <tensorflow.python.keras.engine.sequential.Sequential object at 0x7feefcc71bb0>\n",
      "[35  4 21 ...  9  6 28]\n",
      "              precision    recall  f1-score   support\n",
      "\n",
      "           0       0.21      0.98      0.34        59\n",
      "           1       1.00      0.78      0.88        32\n",
      "           2       1.00      0.98      0.99       249\n",
      "           3       0.99      0.97      0.98       259\n",
      "           4       0.99      0.93      0.96       254\n",
      "           5       1.00      0.95      0.97       275\n",
      "           6       0.98      0.96      0.97       239\n",
      "           7       0.98      0.96      0.97       253\n",
      "           8       1.00      0.95      0.97       281\n",
      "           9       1.00      0.93      0.96       304\n",
      "          10       1.00      0.93      0.96       184\n",
      "          11       0.99      0.94      0.96       147\n",
      "          12       0.99      0.93      0.96       143\n",
      "          13       0.99      0.92      0.95       143\n",
      "          14       1.00      0.98      0.99       130\n",
      "          15       0.98      0.94      0.96       126\n",
      "          16       1.00      0.98      0.99        86\n",
      "          17       0.98      1.00      0.99       248\n",
      "          18       0.00      0.00      0.00         2\n",
      "          19       0.99      0.98      0.99       243\n",
      "          20       0.97      0.96      0.97       275\n",
      "          21       1.00      0.96      0.98       259\n",
      "          22       0.99      0.97      0.98       236\n",
      "          23       0.98      0.97      0.98       246\n",
      "          24       0.00      0.00      0.00         6\n",
      "          25       1.00      0.98      0.99       227\n",
      "          26       0.99      0.99      0.99       227\n",
      "          27       1.00      0.97      0.98       243\n",
      "          28       1.00      0.96      0.98       245\n",
      "          29       1.00      0.97      0.99       268\n",
      "          30       0.98      0.98      0.98       253\n",
      "          31       1.00      0.96      0.98       232\n",
      "          32       1.00      0.96      0.98       232\n",
      "          33       1.00      0.98      0.99       217\n",
      "          34       0.99      0.99      0.99       259\n",
      "          35       0.98      0.96      0.97       271\n",
      "\n",
      "    accuracy                           0.96      7353\n",
      "   macro avg       0.91      0.90      0.90      7353\n",
      "weighted avg       0.98      0.96      0.97      7353\n",
      "\n",
      "\n",
      "Confusion matrix\n",
      "[[ 58   0   0 ...   0   0   0]\n",
      " [  7  25   0 ...   0   0   0]\n",
      " [  4   0 244 ...   0   0   0]\n",
      " ...\n",
      " [  2   0   0 ... 213   0   0]\n",
      " [  2   0   0 ...   0 256   0]\n",
      " [  8   0   1 ...   0   0 259]]\n"
     ]
    },
    {
     "name": "stderr",
     "output_type": "stream",
     "text": [
      "/home/dev/PycharmProjects/NLP/venv/lib/python3.8/site-packages/sklearn/metrics/_classification.py:1245: UndefinedMetricWarning: Precision and F-score are ill-defined and being set to 0.0 in labels with no predicted samples. Use `zero_division` parameter to control this behavior.\n",
      "  _warn_prf(average, modifier, msg_start, len(result))\n",
      "/home/dev/PycharmProjects/NLP/venv/lib/python3.8/site-packages/sklearn/metrics/_classification.py:1245: UndefinedMetricWarning: Precision and F-score are ill-defined and being set to 0.0 in labels with no predicted samples. Use `zero_division` parameter to control this behavior.\n",
      "  _warn_prf(average, modifier, msg_start, len(result))\n",
      "/home/dev/PycharmProjects/NLP/venv/lib/python3.8/site-packages/sklearn/metrics/_classification.py:1245: UndefinedMetricWarning: Precision and F-score are ill-defined and being set to 0.0 in labels with no predicted samples. Use `zero_division` parameter to control this behavior.\n",
      "  _warn_prf(average, modifier, msg_start, len(result))\n"
     ]
    }
   ],
   "source": [
    "from sklearn import svm\n",
    "from sklearn import metrics\n",
    "# sklearn metrics\n",
    "from sklearn.metrics import accuracy_score\n",
    "from sklearn.metrics import precision_score\n",
    "from sklearn.metrics import recall_score\n",
    "from sklearn.metrics import f1_score\n",
    "from sklearn.metrics import roc_curve \n",
    "from sklearn.metrics import auc\n",
    "from sklearn.metrics import classification_report\n",
    "from sklearn.model_selection import cross_val_score\n",
    "from sklearn.model_selection import train_test_split\n",
    "\n",
    "# graphs\n",
    "import matplotlib.pyplot as plt\n",
    "import seaborn as sns\n",
    "%matplotlib inline\n",
    "\n",
    "\n",
    "#Accuracy\n",
    "y_pred = model.predict(X_test)\n",
    "y_pred = (y_pred > 0.5) \n",
    "\n",
    "y_pred=np.argmax(y_pred, axis=1)\n",
    "y_test=np.argmax(y_test, axis=1)\n",
    "accuracy_score(y_test, y_pred)\n",
    "\n",
    "\n",
    "# performance\n",
    "print(\"Classification report for %s\" % model)\n",
    "print(y_pred)\n",
    "print(metrics.classification_report(y_test, y_pred))\n",
    "print()\n",
    "print(\"Confusion matrix\")\n",
    "print(metrics.confusion_matrix(y_test, y_pred))"
   ]
  },
  {
   "cell_type": "code",
   "execution_count": 73,
   "metadata": {},
   "outputs": [
    {
     "data": {
      "image/png": "[encoded data removed]",
      "text/plain": [
       "<Figure size 432x288 with 1 Axes>"
      ]
     },
     "metadata": {
      "needs_background": "light"
     },
     "output_type": "display_data"
    }
   ],
   "source": [
    "acc = history.history['accuracy']\n",
    "val_acc = history.history['val_accuracy']\n",
    "\n",
    "loss = history.history['loss']\n",
    "val_loss = history.history['val_loss']\n",
    "\n",
    "epochs = range(1, 6)\n",
    "plt.plot(epochs, loss, 'g', label='Training loss')\n",
    "plt.plot(epochs, val_loss, 'b', label='validation loss')\n",
    "plt.title('Training and Validation loss')\n",
    "plt.xlabel('Epochs')\n",
    "plt.ylabel('Loss')\n",
    "plt.legend()\n",
    "plt.show()"
   ]
  },
  {
   "cell_type": "code",
   "execution_count": 75,
   "metadata": {},
   "outputs": [
    {
     "data": {
      "image/png": "[encoded data removed]",
      "text/plain": [
       "<Figure size 432x288 with 1 Axes>"
      ]
     },
     "metadata": {
      "needs_background": "light"
     },
     "output_type": "display_data"
    }
   ],
   "source": [
    "loss_train = history.history['accuracy']\n",
    "loss_val = history.history['val_accuracy']\n",
    "epochs = range(1,6)\n",
    "plt.plot(epochs, loss_train, 'g', label='Training accuracy')\n",
    "plt.plot(epochs, loss_val, 'b', label='validation accuracy')\n",
    "plt.title('Training and Validation accuracy')\n",
    "plt.xlabel('Epochs')\n",
    "plt.ylabel('Accuracy')\n",
    "plt.legend()\n",
    "plt.show()"
   ]
  },
  {
   "cell_type": "code",
   "execution_count": null,
   "metadata": {},
   "outputs": [],
   "source": []
  }
 ],
 "metadata": {
  "kernelspec": {
   "display_name": "Python 3",
   "language": "python",
   "name": "python3"
  },
  "language_info": {
   "codemirror_mode": {
    "name": "ipython",
    "version": 3
   },
   "file_extension": ".py",
   "mimetype": "text/x-python",
   "name": "python",
   "nbconvert_exporter": "python",
   "pygments_lexer": "ipython3",
   "version": "3.8.5"
  }
 },
 "nbformat": 4,
 "nbformat_minor": 2
}