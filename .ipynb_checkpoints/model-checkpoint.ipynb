{
 "cells": [
  {
   "cell_type": "code",
   "execution_count": 5,
   "metadata": {},
   "outputs": [],
   "source": [
    "# importing the dependencies\n",
    "import os\n",
    "from os import listdir\n",
    "from os.path import isfile, join\n",
    "import cv2\n",
    "import numpy as np\n",
    "import keras\n",
    "from keras import backend as k\n",
    "from sklearn.model_selection import train_test_split\n",
    "from keras.models import Sequential\n",
    "from keras.layers.convolutional import Conv2D, MaxPooling2D\n",
    "from keras.layers.core import Flatten, Dense"
   ]
  },
  {
   "cell_type": "code",
   "execution_count": 6,
   "metadata": {},
   "outputs": [],
   "source": [
    "# a function to resize the image into appropriate dimensions\n",
    "def resize(img):\n",
    "    img = cv2.resize(img,(20,20))\n",
    "    return img\n",
    "    "
   ]
  },
  {
   "cell_type": "code",
   "execution_count": 7,
   "metadata": {},
   "outputs": [],
   "source": [
    "X_train = []\n",
    "y_train = []\n",
    "\n",
    "# to get the name of the folder\n",
    "for name_folder in os.listdir(\"extracted_letter_images\") :\n",
    "\n",
    "    name = 'extracted_letter_images/' + name_folder\n",
    "    for f in listdir(name):\n",
    "        # name of the folder is the name of the output\n",
    "        y_train.append(np.asarray(name_folder))\n",
    "        \n",
    "        # constructing full path to the image\n",
    "        name = 'extracted_letter_images/' + name_folder + '/' + f\n",
    "        # reading the image\n",
    "        image = cv2.imread(name,0)/255\n",
    "        \n",
    "        # appending to form the image list\n",
    "        image = np.asarray(image)\n",
    "        image = resize(image)\n",
    "        X_train.append([image])"
   ]
  },
  {
   "cell_type": "code",
   "execution_count": 8,
   "metadata": {},
   "outputs": [],
   "source": [
    "# converting the lsit into an numoy array so that it can be fed into neural network\n",
    "X_train = np.asarray(X_train)\n",
    "y_train = np.asarray(y_train)"
   ]
  },
  {
   "cell_type": "code",
   "execution_count": 9,
   "metadata": {},
   "outputs": [],
   "source": [
    "X_train = np.reshape(X_train, [-1,20,20,1])"
   ]
  },
  {
   "cell_type": "code",
   "execution_count": 10,
   "metadata": {},
   "outputs": [
    {
     "data": {
      "text/plain": [
       "(40703, 20, 20, 1)"
      ]
     },
     "execution_count": 10,
     "metadata": {},
     "output_type": "execute_result"
    }
   ],
   "source": [
    "X_train.shape"
   ]
  },
  {
   "cell_type": "code",
   "execution_count": 11,
   "metadata": {},
   "outputs": [],
   "source": [
    "# one hot encoding the output labels\n",
    "from sklearn.preprocessing import LabelEncoder\n",
    "from sklearn.preprocessing import OneHotEncoder\n",
    "\n",
    "label_encoder = LabelEncoder()\n",
    "integer_encoded = label_encoder.fit_transform(y_train)\n",
    "\n",
    "onehot_encoder = OneHotEncoder(sparse=False)\n",
    "integer_encoded = integer_encoded.reshape(len(integer_encoded), 1)\n",
    "y_train = onehot_encoder.fit_transform(integer_encoded)"
   ]
  },
  {
   "cell_type": "code",
   "execution_count": 12,
   "metadata": {},
   "outputs": [],
   "source": [
    "# defining the architecture of the model\n",
    "model = Sequential()\n",
    "\n",
    "# First convolutional layer with max pooling\n",
    "model.add(Conv2D(64, (3, 3), padding=\"same\", input_shape=(20,20,1), activation=\"relu\"))\n",
    "model.add(MaxPooling2D(pool_size=(2, 2)))\n",
    "\n",
    "# Second convolutional layer with max pooling\n",
    "model.add(Conv2D(128, (3, 3), padding=\"same\", activation=\"relu\"))\n",
    "model.add(MaxPooling2D(pool_size=(2, 2)))\n",
    "\n",
    "# third convolutional layer with max pooling\n",
    "model.add(Conv2D(512, (3, 3), padding=\"same\", activation=\"relu\"))\n",
    "model.add(MaxPooling2D(pool_size=(2, 2)))\n",
    "\n",
    "# Hidden layer with 100 nodes\n",
    "model.add(Flatten())\n",
    "model.add(Dense(100, activation=\"relu\"))\n",
    "\n",
    "# Output layer with 36 nodes (one for each possible letter/number we predict)\n",
    "model.add(Dense(36, activation=\"softmax\"))\n",
    "\n",
    "# Ask Keras to build the TensorFlow model behind the scenes\n",
    "model.compile(loss=\"categorical_crossentropy\", optimizer=\"adam\", metrics=[\"accuracy\"])\n"
   ]
  },
  {
   "cell_type": "code",
   "execution_count": 13,
   "metadata": {},
   "outputs": [
    {
     "name": "stdout",
     "output_type": "stream",
     "text": [
      "Model: \"sequential\"\n",
      "_________________________________________________________________\n",
      "Layer (type)                 Output Shape              Param #   \n",
      "=================================================================\n",
      "conv2d (Conv2D)              (None, 20, 20, 64)        640       \n",
      "_________________________________________________________________\n",
      "max_pooling2d (MaxPooling2D) (None, 10, 10, 64)        0         \n",
      "_________________________________________________________________\n",
      "conv2d_1 (Conv2D)            (None, 10, 10, 128)       73856     \n",
      "_________________________________________________________________\n",
      "max_pooling2d_1 (MaxPooling2 (None, 5, 5, 128)         0         \n",
      "_________________________________________________________________\n",
      "conv2d_2 (Conv2D)            (None, 5, 5, 512)         590336    \n",
      "_________________________________________________________________\n",
      "max_pooling2d_2 (MaxPooling2 (None, 2, 2, 512)         0         \n",
      "_________________________________________________________________\n",
      "flatten (Flatten)            (None, 2048)              0         \n",
      "_________________________________________________________________\n",
      "dense (Dense)                (None, 100)               204900    \n",
      "_________________________________________________________________\n",
      "dense_1 (Dense)              (None, 36)                3636      \n",
      "=================================================================\n",
      "Total params: 873,368\n",
      "Trainable params: 873,368\n",
      "Non-trainable params: 0\n",
      "_________________________________________________________________\n"
     ]
    }
   ],
   "source": [
    "model.summary()"
   ]
  },
  {
   "cell_type": "code",
   "execution_count": 14,
   "metadata": {},
   "outputs": [],
   "source": [
    "# splitting the samples into training and testing sets so that we cross validate our results\n",
    "X_train, X_test, y_train, y_test = train_test_split(X_train,y_train ,test_size = .2)"
   ]
  },
  {
   "cell_type": "code",
   "execution_count": 15,
   "metadata": {},
   "outputs": [
    {
     "data": {
      "text/plain": [
       "(32562, 36)"
      ]
     },
     "execution_count": 15,
     "metadata": {},
     "output_type": "execute_result"
    }
   ],
   "source": [
    "# shape of the training output\n",
    "y_train.shape"
   ]
  },
  {
   "cell_type": "code",
   "execution_count": 16,
   "metadata": {},
   "outputs": [
    {
     "name": "stdout",
     "output_type": "stream",
     "text": [
      "Epoch 1/10\n",
      "17/17 [==============================] - 46s 3s/step - loss: 3.4652 - accuracy: 0.1036 - val_loss: 2.5681 - val_accuracy: 0.5257\n",
      "Epoch 2/10\n",
      "17/17 [==============================] - 51s 3s/step - loss: 1.8816 - accuracy: 0.6636 - val_loss: 0.5012 - val_accuracy: 0.8994\n",
      "Epoch 3/10\n",
      "17/17 [==============================] - 54s 3s/step - loss: 0.3833 - accuracy: 0.9199 - val_loss: 0.1698 - val_accuracy: 0.9654\n",
      "Epoch 4/10\n",
      "17/17 [==============================] - 50s 3s/step - loss: 0.1569 - accuracy: 0.9702 - val_loss: 0.1041 - val_accuracy: 0.9806\n",
      "Epoch 5/10\n",
      "17/17 [==============================] - 48s 3s/step - loss: 0.1034 - accuracy: 0.9795 - val_loss: 0.0778 - val_accuracy: 0.9849\n",
      "Epoch 6/10\n",
      "17/17 [==============================] - 48s 3s/step - loss: 0.0748 - accuracy: 0.9865 - val_loss: 0.0633 - val_accuracy: 0.9875\n",
      "Epoch 7/10\n",
      "17/17 [==============================] - 49s 3s/step - loss: 0.0602 - accuracy: 0.9889 - val_loss: 0.0506 - val_accuracy: 0.9901\n",
      "Epoch 8/10\n",
      "17/17 [==============================] - 50s 3s/step - loss: 0.0458 - accuracy: 0.9906 - val_loss: 0.0423 - val_accuracy: 0.9910\n",
      "Epoch 9/10\n",
      "17/17 [==============================] - 49s 3s/step - loss: 0.0389 - accuracy: 0.9922 - val_loss: 0.0362 - val_accuracy: 0.9930\n",
      "Epoch 10/10\n",
      "17/17 [==============================] - 48s 3s/step - loss: 0.0348 - accuracy: 0.9931 - val_loss: 0.0346 - val_accuracy: 0.9924\n"
     ]
    },
    {
     "data": {
      "text/plain": [
       "<tensorflow.python.keras.callbacks.History at 0x7fef01b797c0>"
      ]
     },
     "execution_count": 16,
     "metadata": {},
     "output_type": "execute_result"
    }
   ],
   "source": [
    "# fitting the model\n",
    "model.fit(X_train, y_train,\n",
    "          validation_data=(X_test,y_test),\n",
    "          batch_size=2000, \n",
    "          epochs=5, \n",
    "          verbose=1)\n"
   ]
  },
  {
   "cell_type": "markdown",
   "metadata": {},
   "source": [
    "from the above training and testing results we can say that our model performs very well on the data set"
   ]
  },
  {
   "cell_type": "code",
   "execution_count": 17,
   "metadata": {},
   "outputs": [],
   "source": [
    "#saving the model \n",
    "model.save('models/model.h5')"
   ]
  },
  {
   "cell_type": "code",
   "execution_count": 18,
   "metadata": {},
   "outputs": [],
   "source": [
    "np.save('models/xtrain',X_train,allow_pickle=True)"
   ]
  },
  {
   "cell_type": "code",
   "execution_count": 19,
   "metadata": {},
   "outputs": [],
   "source": [
    "#METRICS\n"
   ]
  },
  {
   "cell_type": "code",
   "execution_count": 25,
   "metadata": {},
   "outputs": [
    {
     "ename": "ModuleNotFoundError",
     "evalue": "No module named 'seaborn'",
     "output_type": "error",
     "traceback": [
      "\u001b[0;31m---------------------------------------------------------------------------\u001b[0m",
      "\u001b[0;31mModuleNotFoundError\u001b[0m                       Traceback (most recent call last)",
      "\u001b[0;32m<ipython-input-25-b7b002d17776>\u001b[0m in \u001b[0;36m<module>\u001b[0;34m\u001b[0m\n\u001b[1;32m     14\u001b[0m \u001b[0;31m# graphs\u001b[0m\u001b[0;34m\u001b[0m\u001b[0;34m\u001b[0m\u001b[0;34m\u001b[0m\u001b[0m\n\u001b[1;32m     15\u001b[0m \u001b[0;32mimport\u001b[0m \u001b[0mmatplotlib\u001b[0m\u001b[0;34m.\u001b[0m\u001b[0mpyplot\u001b[0m \u001b[0;32mas\u001b[0m \u001b[0mplt\u001b[0m\u001b[0;34m\u001b[0m\u001b[0;34m\u001b[0m\u001b[0m\n\u001b[0;32m---> 16\u001b[0;31m \u001b[0;32mimport\u001b[0m \u001b[0mseaborn\u001b[0m \u001b[0;32mas\u001b[0m \u001b[0msns\u001b[0m\u001b[0;34m\u001b[0m\u001b[0;34m\u001b[0m\u001b[0m\n\u001b[0m\u001b[1;32m     17\u001b[0m \u001b[0mget_ipython\u001b[0m\u001b[0;34m(\u001b[0m\u001b[0;34m)\u001b[0m\u001b[0;34m.\u001b[0m\u001b[0mrun_line_magic\u001b[0m\u001b[0;34m(\u001b[0m\u001b[0;34m'matplotlib'\u001b[0m\u001b[0;34m,\u001b[0m \u001b[0;34m'inline'\u001b[0m\u001b[0;34m)\u001b[0m\u001b[0;34m\u001b[0m\u001b[0;34m\u001b[0m\u001b[0m\n\u001b[1;32m     18\u001b[0m \u001b[0;34m\u001b[0m\u001b[0m\n",
      "\u001b[0;31mModuleNotFoundError\u001b[0m: No module named 'seaborn'"
     ]
    }
   ],
   "source": [
    "from sklearn import svm\n",
    "from sklearn import metrics\n",
    "# sklearn metrics\n",
    "from sklearn.metrics import accuracy_score\n",
    "from sklearn.metrics import precision_score\n",
    "from sklearn.metrics import recall_score\n",
    "from sklearn.metrics import f1_score\n",
    "from sklearn.metrics import roc_curve \n",
    "from sklearn.metrics import auc\n",
    "from sklearn.metrics import classification_report\n",
    "from sklearn.model_selection import cross_val_score\n",
    "from sklearn.model_selection import train_test_split\n",
    "\n",
    "# graphs\n",
    "import matplotlib.pyplot as plt\n",
    "import seaborn as sns\n",
    "%matplotlib inline\n",
    "\n",
    "\n",
    "#Accuracy\n",
    "y_pred = model.predict(X_test)\n",
    "accuracy_score(y_test, y_pred)\n",
    "\n",
    "# svm classification\n",
    "clf = svm.SVC(kernel='rbf', gamma=0.7, C = 1.0).fit(X_train, y_train)\n",
    "y_predicted = clf.predict(X_test)\n",
    "\n",
    "# performance\n",
    "print(\"Classification report for %s\" % clf)\n",
    "print()\n",
    "print(metrics.classification_report(y_test, y_predicted))\n",
    "print()\n",
    "print(\"Confusion matrix\")\n",
    "print(metrics.confusion_matrix(y_test, y_predicted))"
   ]
  },
  {
   "cell_type": "code",
   "execution_count": null,
   "metadata": {},
   "outputs": [],
   "source": []
  }
 ],
 "metadata": {
  "kernelspec": {
   "display_name": "Python 3",
   "language": "python",
   "name": "python3"
  },
  "language_info": {
   "codemirror_mode": {
    "name": "ipython",
    "version": 3
   },
   "file_extension": ".py",
   "mimetype": "text/x-python",
   "name": "python",
   "nbconvert_exporter": "python",
   "pygments_lexer": "ipython3",
   "version": "3.8.5"
  }
 },
 "nbformat": 4,
 "nbformat_minor": 2
}
